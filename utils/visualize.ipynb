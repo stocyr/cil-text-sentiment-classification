{
 "cells": [
  {
   "cell_type": "code",
   "execution_count": 1,
   "metadata": {
    "collapsed": false
   },
   "outputs": [],
   "source": [
    "# import computationally expensive model from file (computed in cell above)\n",
    "from scipy.sparse import *\n",
    "import numpy as np\n",
    "import pickle\n",
    "import random\n",
    "xs = pickle.load(open('scratch/embeddings.pkl', 'rb'))\n",
    "vocab = pickle.load(open('scratch/vocab.pkl', 'rb'))\n",
    "vocab_inv = {vocab[w]:w for w in vocab}"
   ]
  },
  {
   "cell_type": "code",
   "execution_count": null,
   "metadata": {
    "collapsed": false
   },
   "outputs": [],
   "source": [
    "# TEST: find similar word from randomly picked one\n",
    "from scipy import spatial\n",
    "from operator import itemgetter\n",
    "\n",
    "start_word = 'awesome'\n",
    "if not start_word or (start_word not in vocab):\n",
    "    # if no start word is chosen, eg. start_word = None, pick one at random\n",
    "    start_word = vocab_inv[np.random.randint(0, xs.shape[0])]\n",
    "    print('starting from random word:', start_word)\n",
    "else:\n",
    "    print('starting from word:', start_word)\n",
    "\n",
    "start_ind = vocab.get(start_word)\n",
    "start_vec = xs[start_ind]\n",
    "\n",
    "# calculate distance to every other word and print out the nearest 10:\n",
    "distances = [(i, spatial.distance.cosine(start_vec, xs[i])) for i in range(xs.shape[0])]\n",
    "distances_sorted = sorted(distances,key=itemgetter(1))\n",
    "print('Order Distance Word')\n",
    "print('-------------------')\n",
    "for k in range(10):\n",
    "    print('{:<6d}{:<9.5f}{:s}'.format(k, distances_sorted[k][1], vocab_inv[distances_sorted[k][0]]))"
   ]
  },
  {
   "cell_type": "code",
   "execution_count": 2,
   "metadata": {
    "collapsed": false
   },
   "outputs": [
    {
     "name": "stdout",
     "output_type": "stream",
     "text": [
      "Assigning feature vector to tweeds for training...\n",
      "  couldn't assign tweed 'heyheyheyhe' a feature.\n",
      "processed 50000 tweeds (working on set 'datasets/train_pos.txt')\n",
      "  couldn't assign tweed 'gilipollas #everywher' a feature.\n",
      "  couldn't assign tweed '#absolutely beastingi' a feature.\n",
      "processed 100000 tweeds (working on set 'datasets/train_neg.txt')\n",
      "  couldn't assign tweed '#killingmesoftl' a feature.\n",
      "  couldn't assign tweed 'catss everywhere' a feature.\n",
      "processed 150000 tweeds (working on set 'datasets/train_neg.txt')\n",
      "Finished processing 199996 tweeds.\n"
     ]
    }
   ],
   "source": [
    "# build feature vectors for every tweed in the full corpus set\n",
    "training_tweeds = []\n",
    "\n",
    "print('Assigning feature vector to tweeds for training...')\n",
    "counter = 1\n",
    "for label, fn in zip([1, -1], ['datasets/train_pos.txt', 'datasets/train_neg.txt']):\n",
    "    with open(fn) as f:\n",
    "        for line in f:\n",
    "            tokens = [vocab.get(t, -1) for t in line.strip().split()]\n",
    "            tokens = [t for t in tokens if t >= 0]\n",
    "            if not tokens:\n",
    "                print(\"  couldn't assign tweed '{}' a feature.\".format(line[:-2]))\n",
    "                continue\n",
    "            vectors = np.array([xs[t] for t in tokens])\n",
    "            avg_vector = np.average(vectors, axis=0)\n",
    "            training_tweeds.append((label,avg_vector))\n",
    "            \n",
    "            if counter % 50000 == 0:\n",
    "                print(\"processed {} tweeds (working on set '{}')\".format(counter, fn))\n",
    "            counter += 1\n",
    "print(\"Finished processing {} tweeds.\".format(counter, fn))"
   ]
  },
  {
   "cell_type": "code",
   "execution_count": null,
   "metadata": {
    "collapsed": false
   },
   "outputs": [],
   "source": [
    "# TEST: Display 10 random words in a 2D PCA representation\n",
    "from sklearn.decomposition import PCA\n",
    "from sklearn.manifold import TSNE\n",
    "from matplotlib import pyplot as plt\n",
    "%matplotlib inline\n",
    "\n",
    "pca = True\n",
    "words = None\n",
    "\n",
    "if not words:\n",
    "    n = 10\n",
    "    wordindices = np.random.randint(0, xs.shape[0], size = n)\n",
    "    vectors = [xs[i] for i in wordindices]\n",
    "    words = [vocab_inv[i] for i in wordindices]\n",
    "else:\n",
    "    words = [w for w in words if w in vocab]\n",
    "    n = len(words)\n",
    "    wordindices = [vocab[w] for w in words]\n",
    "    vectors = [xs[i] for i in wordindices]\n",
    "\n",
    "pca = PCA(n_components=2, whiten=True)\n",
    "vectors2d = pca.fit(vectors).transform(vectors)\n",
    "# with t-SNE:\n",
    "#tsne = TSNE(n_components=2, random_state=0)\n",
    "#vectors2d = tsne.fit_transform(vectors)\n",
    "\n",
    "plt.figure(figsize=(5,5))\n",
    "plt.axis([-3, 3, -3, 3])\n",
    "    \n",
    "for point, word in zip(vectors2d , words):\n",
    "    # plot points\n",
    "    plt.scatter(point[0], point[1], c='r')\n",
    "    # plot word annotations\n",
    "    plt.annotate(word, xy = (point[0], point[1]), xytext = (-4, -0),\n",
    "                 textcoords = 'offset points', ha = 'right', va = 'bottom')\n",
    "plt.title('2D representation')\n",
    "plt.show()"
   ]
  },
  {
   "cell_type": "code",
   "execution_count": 30,
   "metadata": {
    "collapsed": false
   },
   "outputs": [
    {
     "data": {
      "image/png": "[encoded data removed]",
      "text/plain": [
       "<matplotlib.figure.Figure at 0x24694c14518>"
      ]
     },
     "metadata": {},
     "output_type": "display_data"
    }
   ],
   "source": [
    "# TEST: Display 40 random tweeds colored with their label in a 2D PCA representation\n",
    "from sklearn.decomposition import PCA\n",
    "from sklearn.manifold import TSNE\n",
    "from matplotlib import pyplot as plt\n",
    "%matplotlib inline\n",
    "\n",
    "n = 300\n",
    "tweetindices = np.random.randint(0, len(training_tweeds), size = n)\n",
    "labels = [training_tweeds[i][0] for i in tweetindices]\n",
    "vectors = [training_tweeds[i][1] for i in tweetindices]\n",
    "\n",
    "pca = PCA(n_components=2, whiten=True)\n",
    "vectors2d = pca.fit(vectors).transform(vectors)\n",
    "# with t-SNE:\n",
    "#tsne = TSNE(n_components=2, random_state=0)\n",
    "#vectors2d = tsne.fit_transform(vectors)\n",
    "\n",
    "plt.figure(figsize=(5,5))\n",
    "plt.axis([-3, 3, -3, 3])\n",
    "    \n",
    "for point, label in zip(vectors2d , labels):\n",
    "    # plot points\n",
    "    plt.scatter(point[0], point[1], c=('r' if label==-1 else 'g'))\n",
    "plt.title('2D representation')\n",
    "plt.show()"
   ]
  }
 ],
 "metadata": {
  "kernelspec": {
   "display_name": "Python 3",
   "language": "python",
   "name": "python3"
  },
  "language_info": {
   "codemirror_mode": {
    "name": "ipython",
    "version": 3
   },
   "file_extension": ".py",
   "mimetype": "text/x-python",
   "name": "python",
   "nbconvert_exporter": "python",
   "pygments_lexer": "ipython3",
   "version": "3.6.0"
  }
 },
 "nbformat": 4,
 "nbformat_minor": 2
}
