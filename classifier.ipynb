{
 "cells": [
  {
   "cell_type": "code",
   "execution_count": 1,
   "metadata": {
    "collapsed": false
   },
   "outputs": [],
   "source": [
    "# import computationally expensive model from file (computed in cell above)\n",
    "from scipy.sparse import *\n",
    "import numpy as np\n",
    "import pickle\n",
    "import random\n",
    "xs = pickle.load(open('scratch/embeddings.pkl', 'rb'))\n",
    "vocab = pickle.load(open('scratch/vocab.pkl', 'rb'))\n",
    "vocab_inv = {vocab[w]:w for w in vocab}"
   ]
  },
  {
   "cell_type": "code",
   "execution_count": 2,
   "metadata": {
    "collapsed": false
   },
   "outputs": [
    {
     "data": {
      "image/png": "[encoded data removed]",
      "text/plain": [
       "<matplotlib.figure.Figure at 0x228aadc5668>"
      ]
     },
     "metadata": {},
     "output_type": "display_data"
    }
   ],
   "source": [
    "# TEST: Display 20 random words in a 2D PCA representation\n",
    "from sklearn.decomposition import PCA\n",
    "from sklearn.manifold import TSNE\n",
    "from matplotlib import pyplot as plt\n",
    "%matplotlib inline\n",
    "\n",
    "pca = True\n",
    "words = None\n",
    "\n",
    "if not words:\n",
    "    n = 10\n",
    "    wordindices = np.random.randint(0, xs.shape[0], size = n)\n",
    "    vectors = [xs[i] for i in wordindices]\n",
    "    words = [vocab_inv[i] for i in wordindices]\n",
    "else:\n",
    "    words = [w for w in words if w in vocab]\n",
    "    n = len(words)\n",
    "    wordindices = [vocab[w] for w in words]\n",
    "    vectors = [xs[i] for i in wordindices]\n",
    "\n",
    "pca = PCA(n_components=2, whiten=True)\n",
    "vectors2d = pca.fit(vectors).transform(vectors)\n",
    "# with t-SNE:\n",
    "#tsne = TSNE(n_components=2, random_state=0)\n",
    "#vectors2d = tsne.fit_transform(vectors)\n",
    "\n",
    "plt.figure(figsize=(5,5))\n",
    "plt.axis([-3, 3, -3, 3])\n",
    "    \n",
    "for point, word in zip(vectors2d , words):\n",
    "    # plot points\n",
    "    plt.scatter(point[0], point[1], c='r')\n",
    "    # plot word annotations\n",
    "    plt.annotate(word, xy = (point[0], point[1]), xytext = (-4, -0),\n",
    "                 textcoords = 'offset points', ha = 'right', va = 'bottom')\n",
    "plt.title('2D representation')\n",
    "plt.show()"
   ]
  },
  {
   "cell_type": "code",
   "execution_count": 6,
   "metadata": {
    "collapsed": false
   },
   "outputs": [
    {
     "name": "stdout",
     "output_type": "stream",
     "text": [
      "starting from word: awesome\n",
      "Order Distance Word\n",
      "-------------------\n",
      "0     -0.00000 awesome\n",
      "1     0.00097  didn't\n",
      "2     0.00100  i'll\n",
      "3     0.00101  watching\n",
      "4     0.00118  again\n",
      "5     0.00119  hahaha\n",
      "6     0.00119  bad\n",
      "7     0.00119  everyone\n",
      "8     0.00120  what\n",
      "9     0.00121  play\n"
     ]
    }
   ],
   "source": [
    "# TEST: find similar word from randomly picked one\n",
    "from scipy import spatial\n",
    "from operator import itemgetter\n",
    "\n",
    "start_word = 'awesome'\n",
    "if not start_word or (start_word not in vocab):\n",
    "    # if no start word is chosen, eg. start_word = None, pick one at random\n",
    "    start_word = vocab_inv[np.random.randint(0, xs.shape[0])]\n",
    "    print('starting from random word:', start_word)\n",
    "else:\n",
    "    print('starting from word:', start_word)\n",
    "\n",
    "start_ind = vocab.get(start_word)\n",
    "start_vec = xs[start_ind]\n",
    "\n",
    "# calculate distance to every other word and print out the nearest 10:\n",
    "distances = [(i, spatial.distance.cosine(start_vec, xs[i])) for i in range(xs.shape[0])]\n",
    "distances_sorted = sorted(distances,key=itemgetter(1))\n",
    "print('Order Distance Word')\n",
    "print('-------------------')\n",
    "for k in range(10):\n",
    "    print('{:<6d}{:<9.5f}{:s}'.format(k, distances_sorted[k][1], vocab_inv[distances_sorted[k][0]]))"
   ]
  },
  {
   "cell_type": "code",
   "execution_count": 11,
   "metadata": {
    "collapsed": false
   },
   "outputs": [
    {
     "name": "stdout",
     "output_type": "stream",
     "text": [
      "Assigning feature vector to tweeds for training...\n",
      "  couldn't assign tweed 'heyheyheyhe' a feature.\n",
      "processed 50000 tweeds (working on set 'datasets/train_pos_full.txt')\n",
      "  couldn't assign tweed 'gilipollas #everywher' a feature.\n",
      "  couldn't assign tweed '#absolutely beastingi' a feature.\n",
      "processed 100000 tweeds (working on set 'datasets/train_pos_full.txt')\n",
      "  couldn't assign tweed '#sobersall' a feature.\n",
      "processed 150000 tweeds (working on set 'datasets/train_pos_full.txt')\n",
      "  couldn't assign tweed '#thankfuckitsfriday whooos' a feature.\n",
      "processed 200000 tweeds (working on set 'datasets/train_pos_full.txt')\n",
      "  couldn't assign tweed '#somethingboutatruck' a feature.\n",
      "  couldn't assign tweed '#somethingmomsneversa' a feature.\n",
      "  couldn't assign tweed '#niallwithkoal' a feature.\n",
      "  couldn't assign tweed '#awebobrothe' a feature.\n",
      "processed 250000 tweeds (working on set 'datasets/train_pos_full.txt')\n",
      "  couldn't assign tweed '#twitterduringthedarkcuz_twitterafterdark_istechnicallymornin' a feature.\n",
      "  couldn't assign tweed '#jujurakusakithat' a feature.\n",
      "processed 300000 tweeds (working on set 'datasets/train_pos_full.txt')\n",
      "processed 350000 tweeds (working on set 'datasets/train_pos_full.txt')\n",
      "  couldn't assign tweed '#movieandcuddletime_withba' a feature.\n",
      "processed 400000 tweeds (working on set 'datasets/train_pos_full.txt')\n",
      "  couldn't assign tweed '#np-honestl' a feature.\n",
      "  couldn't assign tweed 'cheerfull' a feature.\n",
      "  couldn't assign tweed '#mygirlfriendsaidshehateswhenpeoplemaketheirhashtagstoolongoppssorryasiaireallyhopethisisnttoolongifitistoolongpleaseforgivemelolimdon' a feature.\n",
      "processed 450000 tweeds (working on set 'datasets/train_pos_full.txt')\n",
      "processed 500000 tweeds (working on set 'datasets/train_pos_full.txt')\n",
      "  couldn't assign tweed '#directionersneedanothertwitca' a feature.\n",
      "  couldn't assign tweed 'live.love.laug' a feature.\n",
      "processed 550000 tweeds (working on set 'datasets/train_pos_full.txt')\n",
      "processed 600000 tweeds (working on set 'datasets/train_pos_full.txt')\n",
      "  couldn't assign tweed '#ifyouthinkimabitchyoushouldmeetmyaun' a feature.\n",
      "processed 650000 tweeds (working on set 'datasets/train_pos_full.txt')\n",
      "  couldn't assign tweed '#jedwardweloveyounomatterwha' a feature.\n",
      "  couldn't assign tweed 'kyaking #lovingthisweathe' a feature.\n",
      "  couldn't assign tweed 'shuttingdown #easyroc' a feature.\n",
      "processed 700000 tweeds (working on set 'datasets/train_pos_full.txt')\n",
      "processed 750000 tweeds (working on set 'datasets/train_pos_full.txt')\n",
      "  couldn't assign tweed '#laughattakfornoreaso' a feature.\n",
      "  couldn't assign tweed '#ftotheatothertothemtotheatothestothei #aminyaalla' a feature.\n",
      "processed 800000 tweeds (working on set 'datasets/train_pos_full.txt')\n",
      "  couldn't assign tweed '#playingwithfireagai' a feature.\n",
      "  couldn't assign tweed '#thoughduringschool lalalalalalalal' a feature.\n",
      "  couldn't assign tweed '#thoughtsduringschoollunc' a feature.\n",
      "processed 850000 tweeds (working on set 'datasets/train_pos_full.txt')\n",
      "processed 900000 tweeds (working on set 'datasets/train_pos_full.txt')\n",
      "  couldn't assign tweed 'myangelwithoutwing' a feature.\n",
      "  couldn't assign tweed '#freeboosiethoug' a feature.\n",
      "  couldn't assign tweed 'damn_got_an_aura_of_pretty_ladies_followin_me_on_twitter_not _1_of_them_ugly_uh_shout_out_to_that _lo' a feature.\n",
      "processed 950000 tweeds (working on set 'datasets/train_pos_full.txt')\n",
      "  couldn't assign tweed 'longliveforthejonasbrother' a feature.\n",
      "processed 1000000 tweeds (working on set 'datasets/train_pos_full.txt')\n",
      "  couldn't assign tweed 'please.please.pleas' a feature.\n",
      "  couldn't assign tweed '#idontsmokethoug' a feature.\n",
      "  couldn't assign tweed 'fals' a feature.\n",
      "  couldn't assign tweed '#rivfh #myownwayofblogging #onlyiknowwhatimsaying #ifhiah' a feature.\n",
      "processed 1050000 tweeds (working on set 'datasets/train_pos_full.txt')\n",
      "  couldn't assign tweed '#sexytimewithstyle' a feature.\n",
      "  couldn't assign tweed 'whatevveerr' a feature.\n",
      "processed 1100000 tweeds (working on set 'datasets/train_pos_full.txt')\n",
      "  couldn't assign tweed '#thankyoulordforanotherda' a feature.\n",
      "  couldn't assign tweed '#1darethebestgroupintheworl' a feature.\n",
      "  couldn't assign tweed '#1darethebestgroupintheworl' a feature.\n",
      "  couldn't assign tweed 'retweetifyoucanreadthiswithnoproblemsasyouarejustthatsmar' a feature.\n",
      "  couldn't assign tweed 'glad.thats.over.with #licenseseddrive' a feature.\n",
      "processed 1150000 tweeds (working on set 'datasets/train_pos_full.txt')\n",
      "  couldn't assign tweed 'randommm thoughh' a feature.\n",
      "processed 1200000 tweeds (working on set 'datasets/train_pos_full.txt')\n",
      "  couldn't assign tweed 'holawas mitwitte' a feature.\n",
      "processed 1250000 tweeds (working on set 'datasets/train_neg_full.txt')\n",
      "  couldn't assign tweed '#killingmesoftl' a feature.\n",
      "  couldn't assign tweed 'catss everywhere' a feature.\n",
      "processed 1300000 tweeds (working on set 'datasets/train_neg_full.txt')\n",
      "processed 1350000 tweeds (working on set 'datasets/train_neg_full.txt')\n",
      "  couldn't assign tweed '#toomuchresponsibility #hategrowingu' a feature.\n",
      "processed 1400000 tweeds (working on set 'datasets/train_neg_full.txt')\n",
      "  couldn't assign tweed '#justhateitwhenthestorerunsoutofpringleswithsourcreamandonionflavou' a feature.\n",
      "processed 1450000 tweeds (working on set 'datasets/train_neg_full.txt')\n",
      "processed 1500000 tweeds (working on set 'datasets/train_neg_full.txt')\n",
      "processed 1550000 tweeds (working on set 'datasets/train_neg_full.txt')\n",
      "  couldn't assign tweed '#pleasedontletmebeil' a feature.\n",
      "  couldn't assign tweed '#comehomepleas' a feature.\n",
      "  couldn't assign tweed 'thisntwitcamisthebestthingeve' a feature.\n",
      "processed 1600000 tweeds (working on set 'datasets/train_neg_full.txt')\n",
      "  couldn't assign tweed '#whensongsshowhowyoufee' a feature.\n",
      "  couldn't assign tweed 'pleasestopfightin' a feature.\n",
      "  couldn't assign tweed '103.9 tempsture #literallydyin' a feature.\n",
      "processed 1650000 tweeds (working on set 'datasets/train_neg_full.txt')\n",
      "  couldn't assign tweed '#mybestisnotgoodenoug' a feature.\n",
      "processed 1700000 tweeds (working on set 'datasets/train_neg_full.txt')\n",
      "  couldn't assign tweed '#iloveonedirectionandidontkonwwhyimtweetingaboutthiscuznobodywillreadthi' a feature.\n",
      "processed 1750000 tweeds (working on set 'datasets/train_neg_full.txt')\n",
      "  couldn't assign tweed 'baleskepleas' a feature.\n",
      "  couldn't assign tweed 'helpmepleas' a feature.\n",
      "processed 1800000 tweeds (working on set 'datasets/train_neg_full.txt')\n",
      "  couldn't assign tweed '#somebodykillmepleas' a feature.\n",
      "  couldn't assign tweed '#thingsimgoingtomisswhenigraduate #leahgallegerneedstwitte' a feature.\n"
     ]
    },
    {
     "ename": "UnicodeDecodeError",
     "evalue": "'charmap' codec can't decode byte 0x9d in position 7072: character maps to <undefined>",
     "output_type": "error",
     "traceback": [
      "\u001b[0;31m---------------------------------------------------------------------------\u001b[0m",
      "\u001b[0;31mUnicodeDecodeError\u001b[0m                        Traceback (most recent call last)",
      "\u001b[0;32m<ipython-input-11-0b18ad159cae>\u001b[0m in \u001b[0;36m<module>\u001b[0;34m()\u001b[0m\n\u001b[1;32m      6\u001b[0m \u001b[1;32mfor\u001b[0m \u001b[0mlabel\u001b[0m\u001b[1;33m,\u001b[0m \u001b[0mfn\u001b[0m \u001b[1;32min\u001b[0m \u001b[0mzip\u001b[0m\u001b[1;33m(\u001b[0m\u001b[1;33m[\u001b[0m\u001b[1;36m1\u001b[0m\u001b[1;33m,\u001b[0m \u001b[1;33m-\u001b[0m\u001b[1;36m1\u001b[0m\u001b[1;33m]\u001b[0m\u001b[1;33m,\u001b[0m \u001b[1;33m[\u001b[0m\u001b[1;34m'datasets/train_pos_full.txt'\u001b[0m\u001b[1;33m,\u001b[0m \u001b[1;34m'datasets/train_neg_full.txt'\u001b[0m\u001b[1;33m]\u001b[0m\u001b[1;33m)\u001b[0m\u001b[1;33m:\u001b[0m\u001b[1;33m\u001b[0m\u001b[0m\n\u001b[1;32m      7\u001b[0m     \u001b[1;32mwith\u001b[0m \u001b[0mopen\u001b[0m\u001b[1;33m(\u001b[0m\u001b[0mfn\u001b[0m\u001b[1;33m)\u001b[0m \u001b[1;32mas\u001b[0m \u001b[0mf\u001b[0m\u001b[1;33m:\u001b[0m\u001b[1;33m\u001b[0m\u001b[0m\n\u001b[0;32m----> 8\u001b[0;31m         \u001b[1;32mfor\u001b[0m \u001b[0mline\u001b[0m \u001b[1;32min\u001b[0m \u001b[0mf\u001b[0m\u001b[1;33m:\u001b[0m\u001b[1;33m\u001b[0m\u001b[0m\n\u001b[0m\u001b[1;32m      9\u001b[0m             \u001b[0mtokens\u001b[0m \u001b[1;33m=\u001b[0m \u001b[1;33m[\u001b[0m\u001b[0mvocab\u001b[0m\u001b[1;33m.\u001b[0m\u001b[0mget\u001b[0m\u001b[1;33m(\u001b[0m\u001b[0mt\u001b[0m\u001b[1;33m,\u001b[0m \u001b[1;33m-\u001b[0m\u001b[1;36m1\u001b[0m\u001b[1;33m)\u001b[0m \u001b[1;32mfor\u001b[0m \u001b[0mt\u001b[0m \u001b[1;32min\u001b[0m \u001b[0mline\u001b[0m\u001b[1;33m.\u001b[0m\u001b[0mstrip\u001b[0m\u001b[1;33m(\u001b[0m\u001b[1;33m)\u001b[0m\u001b[1;33m.\u001b[0m\u001b[0msplit\u001b[0m\u001b[1;33m(\u001b[0m\u001b[1;33m)\u001b[0m\u001b[1;33m]\u001b[0m\u001b[1;33m\u001b[0m\u001b[0m\n\u001b[1;32m     10\u001b[0m             \u001b[0mtokens\u001b[0m \u001b[1;33m=\u001b[0m \u001b[1;33m[\u001b[0m\u001b[0mt\u001b[0m \u001b[1;32mfor\u001b[0m \u001b[0mt\u001b[0m \u001b[1;32min\u001b[0m \u001b[0mtokens\u001b[0m \u001b[1;32mif\u001b[0m \u001b[0mt\u001b[0m \u001b[1;33m>=\u001b[0m \u001b[1;36m0\u001b[0m\u001b[1;33m]\u001b[0m\u001b[1;33m\u001b[0m\u001b[0m\n",
      "\u001b[0;32mC:\\Users\\cyril\\Anaconda3\\lib\\encodings\\cp1252.py\u001b[0m in \u001b[0;36mdecode\u001b[0;34m(self, input, final)\u001b[0m\n\u001b[1;32m     21\u001b[0m \u001b[1;32mclass\u001b[0m \u001b[0mIncrementalDecoder\u001b[0m\u001b[1;33m(\u001b[0m\u001b[0mcodecs\u001b[0m\u001b[1;33m.\u001b[0m\u001b[0mIncrementalDecoder\u001b[0m\u001b[1;33m)\u001b[0m\u001b[1;33m:\u001b[0m\u001b[1;33m\u001b[0m\u001b[0m\n\u001b[1;32m     22\u001b[0m     \u001b[1;32mdef\u001b[0m \u001b[0mdecode\u001b[0m\u001b[1;33m(\u001b[0m\u001b[0mself\u001b[0m\u001b[1;33m,\u001b[0m \u001b[0minput\u001b[0m\u001b[1;33m,\u001b[0m \u001b[0mfinal\u001b[0m\u001b[1;33m=\u001b[0m\u001b[1;32mFalse\u001b[0m\u001b[1;33m)\u001b[0m\u001b[1;33m:\u001b[0m\u001b[1;33m\u001b[0m\u001b[0m\n\u001b[0;32m---> 23\u001b[0;31m         \u001b[1;32mreturn\u001b[0m \u001b[0mcodecs\u001b[0m\u001b[1;33m.\u001b[0m\u001b[0mcharmap_decode\u001b[0m\u001b[1;33m(\u001b[0m\u001b[0minput\u001b[0m\u001b[1;33m,\u001b[0m\u001b[0mself\u001b[0m\u001b[1;33m.\u001b[0m\u001b[0merrors\u001b[0m\u001b[1;33m,\u001b[0m\u001b[0mdecoding_table\u001b[0m\u001b[1;33m)\u001b[0m\u001b[1;33m[\u001b[0m\u001b[1;36m0\u001b[0m\u001b[1;33m]\u001b[0m\u001b[1;33m\u001b[0m\u001b[0m\n\u001b[0m\u001b[1;32m     24\u001b[0m \u001b[1;33m\u001b[0m\u001b[0m\n\u001b[1;32m     25\u001b[0m \u001b[1;32mclass\u001b[0m \u001b[0mStreamWriter\u001b[0m\u001b[1;33m(\u001b[0m\u001b[0mCodec\u001b[0m\u001b[1;33m,\u001b[0m\u001b[0mcodecs\u001b[0m\u001b[1;33m.\u001b[0m\u001b[0mStreamWriter\u001b[0m\u001b[1;33m)\u001b[0m\u001b[1;33m:\u001b[0m\u001b[1;33m\u001b[0m\u001b[0m\n",
      "\u001b[0;31mUnicodeDecodeError\u001b[0m: 'charmap' codec can't decode byte 0x9d in position 7072: character maps to <undefined>"
     ]
    }
   ],
   "source": [
    "# build feature vectors for every tweed in the full corpus set\n",
    "training_tweeds = []\n",
    "\n",
    "print('Assigning feature vector to tweeds for training...')\n",
    "counter = 1\n",
    "for label, fn in zip([1, -1], ['datasets/train_pos_full.txt', 'datasets/train_neg_full.txt']):\n",
    "    with open(fn) as f:\n",
    "        for line in f:\n",
    "            tokens = [vocab.get(t, -1) for t in line.strip().split()]\n",
    "            tokens = [t for t in tokens if t >= 0]\n",
    "            if not tokens:\n",
    "                print(\"  couldn't assign tweed '{}' a feature.\".format(line[:-2]))\n",
    "                continue\n",
    "            vectors = np.array([xs[t] for t in tokens])\n",
    "            avg_vector = np.average(vectors, axis=0)\n",
    "            training_tweeds.append((label,avg_vector))\n",
    "            \n",
    "            if counter % 50000 == 0:\n",
    "                print(\"processed {} tweeds (working on set '{}')\".format(counter, fn))\n",
    "            counter += 1\n",
    "print(\"Finished processing {} tweeds.\".format(counter, fn))"
   ]
  },
  {
   "cell_type": "code",
   "execution_count": null,
   "metadata": {
    "collapsed": false
   },
   "outputs": [],
   "source": [
    "# train a linear classifier with support vector machine\n",
    "from sklearn import svm\n",
    "# to separate labels and feature vectors of the training data, just unzip the tweed list\n",
    "Y, X = zip(*training_tweeds)\n",
    "clf = svm.LinearSVC(verbose=10)\n",
    "clf.fit(X,Y)\n"
   ]
  },
  {
   "cell_type": "code",
   "execution_count": 10,
   "metadata": {
    "collapsed": false
   },
   "outputs": [
    {
     "name": "stdout",
     "output_type": "stream",
     "text": [
      "4590\n",
      "couldn't assign tweed '#thatsjustmethough' a feature. Manually: 1\n"
     ]
    }
   ],
   "source": [
    "# now classify the vectors in the test data\n",
    "import csv\n",
    "import datetime\n",
    "test_tweeds = []\n",
    "\n",
    "undeterminable = {4590:1}\n",
    "\n",
    "with open('datasets/test_data.txt') as f:\n",
    "    for line in f:\n",
    "        id, tweed = line.split(',', 1)\n",
    "        id = int(id)\n",
    "        label = -1\n",
    "        tokens = [vocab.get(t, -1) for t in tweed.strip().split()]\n",
    "        tokens = [t for t in tokens if t >= 0]\n",
    "        if not tokens:\n",
    "            print(id)\n",
    "            label = undeterminable[id]\n",
    "            print(\"couldn't assign tweed '{}' a feature. Manually: {}\".format(tweed.strip(), label))\n",
    "        else:\n",
    "            vectors = np.array([xs[t] for t in tokens])\n",
    "            label = clf.predict(np.average(vectors, axis=0).reshape(1, -1))\n",
    "        test_tweeds.append([id, label])\n",
    "\n",
    "# write classifications in csv file\n",
    "timestamp = datetime.date.today()\n",
    "np.savetxt('submissions/submission_{}.csv'.format(timestamp), test_tweeds, delimiter=\",\", fmt='%d', header='Id,Prediction', comments='')"
   ]
  }
 ],
 "metadata": {
  "kernelspec": {
   "display_name": "Python 3",
   "language": "python",
   "name": "python3"
  },
  "language_info": {
   "codemirror_mode": {
    "name": "ipython",
    "version": 3
   },
   "file_extension": ".py",
   "mimetype": "text/x-python",
   "name": "python",
   "nbconvert_exporter": "python",
   "pygments_lexer": "ipython3",
   "version": "3.6.0"
  }
 },
 "nbformat": 4,
 "nbformat_minor": 2
}
